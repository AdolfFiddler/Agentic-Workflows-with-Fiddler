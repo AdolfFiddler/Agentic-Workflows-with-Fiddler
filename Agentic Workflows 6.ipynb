{
 "cells": [
  {
   "cell_type": "markdown",
   "metadata": {
    "vscode": {
     "languageId": "plaintext"
    }
   },
   "source": [
    "### Human in the Loop\n",
    "\n"
   ]
  },
  {
   "cell_type": "markdown",
   "metadata": {},
   "source": [
    "Interrupting the flow to allow the user to provide approval.\n",
    "\n",
    "We will use breakpoints concept to develop this feature in our graph."
   ]
  },
  {
   "cell_type": "code",
   "execution_count": 1,
   "metadata": {},
   "outputs": [],
   "source": [
    "# Let's work out with the reAct agent we created\n",
    "# in previous videos\n",
    "\n",
    "from langchain_openai import ChatOpenAI\n",
    "from langchain.tools import StructuredTool\n",
    "\n",
    "# Defining tools\n",
    "def multiply(a:int,b:int) -> int:\n",
    "    \"\"\"\n",
    "    Multiply a and b.\n",
    "    Args:\n",
    "    a: first int\n",
    "    b: second int\n",
    "\n",
    "    \"\"\"\n",
    "    return a*b\n",
    "\n",
    "def add(a:int,b:int) -> int:\n",
    "    \"\"\"\n",
    "    Adds a and b.\n",
    "\n",
    "    Args:\n",
    "    a: first int\n",
    "    b: second int\n",
    "    \"\"\"\n",
    "    return a+b\n",
    "\n",
    "def divide(a:int,b:int) -> float:\n",
    "    \"\"\"\n",
    "    Divides a and b\n",
    "\n",
    "    Args:\n",
    "    a: first int\n",
    "    b: second int\n",
    "\n",
    "    \"\"\"\n",
    "    return a/b\n",
    "\n",
    "adder = StructuredTool.from_function(func = add)\n",
    "multiplier = StructuredTool.from_function(func = multiply)\n",
    "divider = StructuredTool.from_function(func = divide)\n",
    "\n",
    "# Creating the tools list\n",
    "tools = [adder,multiplier,divider]\n",
    "llm = ChatOpenAI(model = 'gpt-3.5-turbo')\n",
    "\n",
    "# Binding the llm with tools\n",
    "llm_with_tools = llm.bind_tools(tools)\n"
   ]
  },
  {
   "cell_type": "code",
   "execution_count": 2,
   "metadata": {},
   "outputs": [],
   "source": [
    "from IPython.display import Image, display\n",
    "\n",
    "from langgraph.checkpoint.memory import MemorySaver\n",
    "from langgraph.graph import MessagesState\n",
    "from langgraph.graph import START, StateGraph\n",
    "from langgraph.prebuilt import tools_condition, ToolNode\n",
    "from langchain_core.messages import AIMessage, HumanMessage, SystemMessage\n",
    "\n",
    "# Sys message\n",
    "sys_msg = SystemMessage(content = \"You're an assistant adept at performing mathematical operations on a set of input\")\n",
    "\n",
    "# defining the assistant node function\n",
    "def assistant(state:MessagesState):\n",
    "    return {'messages': [llm_with_tools.invoke([sys_msg] + state['messages'])]}\n",
    "\n",
    "# Instantiating the builder object\n",
    "builder = StateGraph(MessagesState)\n",
    "\n",
    "# Define nodes and edges\n",
    "builder.add_node('assistant',assistant)\n",
    "builder.add_node('tools',ToolNode(tools))\n",
    "builder.add_edge(START,'assistant')\n",
    "builder.add_conditional_edges('assistant',tools_condition)\n",
    "builder.add_edge('tools','assistant')\n",
    "\n",
    "# creating a memory object\n",
    "memory = MemorySaver()"
   ]
  },
  {
   "cell_type": "code",
   "execution_count": 4,
   "metadata": {},
   "outputs": [
    {
     "data": {
      "image/jpeg": "[encoded data removed]",
      "text/plain": [
       "<IPython.core.display.Image object>"
      ]
     },
     "metadata": {},
     "output_type": "display_data"
    }
   ],
   "source": [
    "# Compiling the graph\n",
    "# with checkpointer and interrupt instructions\n",
    "\n",
    "graph = builder.compile(interrupt_before = ['tools'],\n",
    "                        checkpointer = memory)\n",
    "\n",
    "# Visualize\n",
    "display(Image(graph.get_graph(xray=True).draw_mermaid_png()))"
   ]
  },
  {
   "cell_type": "code",
   "execution_count": 6,
   "metadata": {},
   "outputs": [
    {
     "name": "stdout",
     "output_type": "stream",
     "text": [
      "================================\u001b[1m Human Message \u001b[0m=================================\n",
      "\n",
      "Multiply 3 and 5\n",
      "==================================\u001b[1m Ai Message \u001b[0m==================================\n",
      "Tool Calls:\n",
      "  multiply (call_04ibWw4AvhbT5K2FmG8I5LX6)\n",
      " Call ID: call_04ibWw4AvhbT5K2FmG8I5LX6\n",
      "  Args:\n",
      "    a: 3\n",
      "    b: 5\n"
     ]
    }
   ],
   "source": [
    "# Input\n",
    "initial_state = {'messages': HumanMessage(content = 'Multiply 3 and 5')}\n",
    "\n",
    "# Configuring thread\n",
    "config = {'configurable': {'thread_id':'1'}}\n",
    "\n",
    "# Execute the graph using stream functionality\n",
    "for event in graph.stream(initial_state,\n",
    "                          config,\n",
    "                          stream_mode = 'values'):\n",
    "    event['messages'][-1].pretty_print()"
   ]
  },
  {
   "cell_type": "markdown",
   "metadata": {},
   "source": [
    "We can see that the graph has executed till the assistants node and has stopped before the tools node as per the interruption provided by us while compiling it."
   ]
  },
  {
   "cell_type": "code",
   "execution_count": 7,
   "metadata": {},
   "outputs": [
    {
     "name": "stdout",
     "output_type": "stream",
     "text": [
      "StateSnapshot(values={'messages': [HumanMessage(content='Multiply 3 and 5', additional_kwargs={}, response_metadata={}, id='e26c8b47-3adf-4c5a-9977-cff71844f846'), HumanMessage(content='Multiply 3 and 5', additional_kwargs={}, response_metadata={}, id='cab3f602-9d96-4320-a628-144b0267bd41'), AIMessage(content='', additional_kwargs={'tool_calls': [{'id': 'call_04ibWw4AvhbT5K2FmG8I5LX6', 'function': {'arguments': '{\"a\":3,\"b\":5}', 'name': 'multiply'}, 'type': 'function'}], 'refusal': None}, response_metadata={'token_usage': {'completion_tokens': 17, 'prompt_tokens': 171, 'total_tokens': 188, 'prompt_tokens_details': {'cached_tokens': 0}, 'completion_tokens_details': {'reasoning_tokens': 0}}, 'model_name': 'gpt-3.5-turbo-0125', 'system_fingerprint': None, 'finish_reason': 'tool_calls', 'logprobs': None}, id='run-0e8d6880-b78f-4209-86ce-657f1a0a6107-0', tool_calls=[{'name': 'multiply', 'args': {'a': 3, 'b': 5}, 'id': 'call_04ibWw4AvhbT5K2FmG8I5LX6', 'type': 'tool_call'}], usage_metadata={'input_tokens': 171, 'output_tokens': 17, 'total_tokens': 188, 'input_token_details': {'cache_read': 0}, 'output_token_details': {'reasoning': 0}})]}, next=('tools',), config={'configurable': {'thread_id': '1', 'checkpoint_ns': '', 'checkpoint_id': '1ef8be0e-cbdd-633d-8003-14a3c8cc37be'}}, metadata={'source': 'loop', 'writes': {'assistant': {'messages': [AIMessage(content='', additional_kwargs={'tool_calls': [{'id': 'call_04ibWw4AvhbT5K2FmG8I5LX6', 'function': {'arguments': '{\"a\":3,\"b\":5}', 'name': 'multiply'}, 'type': 'function'}], 'refusal': None}, response_metadata={'token_usage': {'completion_tokens': 17, 'prompt_tokens': 171, 'total_tokens': 188, 'prompt_tokens_details': {'cached_tokens': 0}, 'completion_tokens_details': {'reasoning_tokens': 0}}, 'model_name': 'gpt-3.5-turbo-0125', 'system_fingerprint': None, 'finish_reason': 'tool_calls', 'logprobs': None}, id='run-0e8d6880-b78f-4209-86ce-657f1a0a6107-0', tool_calls=[{'name': 'multiply', 'args': {'a': 3, 'b': 5}, 'id': 'call_04ibWw4AvhbT5K2FmG8I5LX6', 'type': 'tool_call'}], usage_metadata={'input_tokens': 171, 'output_tokens': 17, 'total_tokens': 188, 'input_token_details': {'cache_read': 0}, 'output_token_details': {'reasoning': 0}})]}}, 'step': 3, 'parents': {}}, created_at='2024-10-16T17:06:03.257324+00:00', parent_config={'configurable': {'thread_id': '1', 'checkpoint_ns': '', 'checkpoint_id': '1ef8be0e-c07c-6b7f-8002-926096c8f70f'}}, tasks=(PregelTask(id='8543994d-f91e-919d-f8e0-d981a19c0fec', name='tools', path=('__pregel_pull', 'tools'), error=None, interrupts=(), state=None),))\n",
      "('tools',)\n"
     ]
    }
   ],
   "source": [
    "# Let's explore the checkpoint of the graph\n",
    "state = graph.get_state(config)\n",
    "\n",
    "print(state)\n",
    "print(state.next)"
   ]
  },
  {
   "cell_type": "markdown",
   "metadata": {},
   "source": [
    "Now, one important thing:\n",
    "When we invoke the graph by providing None as input, it just continues execution from the last checkpoint which is the tool_call or assistant node's response over here.\n",
    "\n",
    "So, if we run the graph now using None as input then, it will continue from the current state and trigger the tools node and then go towards generating final response."
   ]
  },
  {
   "cell_type": "code",
   "execution_count": 8,
   "metadata": {},
   "outputs": [
    {
     "name": "stdout",
     "output_type": "stream",
     "text": [
      "==================================\u001b[1m Ai Message \u001b[0m==================================\n",
      "Tool Calls:\n",
      "  multiply (call_04ibWw4AvhbT5K2FmG8I5LX6)\n",
      " Call ID: call_04ibWw4AvhbT5K2FmG8I5LX6\n",
      "  Args:\n",
      "    a: 3\n",
      "    b: 5\n",
      "=================================\u001b[1m Tool Message \u001b[0m=================================\n",
      "Name: multiply\n",
      "\n",
      "15\n",
      "==================================\u001b[1m Ai Message \u001b[0m==================================\n",
      "\n",
      "The result of multiplying 3 and 5 is 15.\n"
     ]
    }
   ],
   "source": [
    "for event in graph.stream(None,\n",
    "                          config,\n",
    "                          stream_mode = 'values'):\n",
    "    event['messages'][-1].pretty_print()"
   ]
  },
  {
   "cell_type": "code",
   "execution_count": null,
   "metadata": {},
   "outputs": [],
   "source": [
    "# Input\n",
    "initial_state = {\"messages\": HumanMessage(content=\"Multiply 3 and 5\")}\n",
    "\n",
    "# Thread\n",
    "config = {\"configurable\": {\"thread_id\": \"4\"}}\n",
    "\n",
    "# Run the graph until the first interruption\n",
    "for event in graph.stream(initial_state, config, stream_mode=\"values\"):\n",
    "    event['messages'][-1].pretty_print()\n",
    "\n",
    "# Get user feedback\n",
    "user_input = input(\"Should we proceed? (yay/nay): \")\n",
    "\n",
    "# Check approval\n",
    "if user_input == \"yay\":\n",
    "    \n",
    "    # If approved, continue the graph execution with None as input\n",
    "    for event in graph.stream(None,config, stream_mode=\"values\"):\n",
    "        event['messages'][-1].pretty_print()\n",
    "        \n",
    "else:\n",
    "    print(\"User denied graph execution\")"
   ]
  }
 ],
 "metadata": {
  "kernelspec": {
   "display_name": "Python 3",
   "language": "python",
   "name": "python3"
  },
  "language_info": {
   "codemirror_mode": {
    "name": "ipython",
    "version": 3
   },
   "file_extension": ".py",
   "mimetype": "text/x-python",
   "name": "python",
   "nbconvert_exporter": "python",
   "pygments_lexer": "ipython3",
   "version": "3.12.2"
  }
 },
 "nbformat": 4,
 "nbformat_minor": 2
}
