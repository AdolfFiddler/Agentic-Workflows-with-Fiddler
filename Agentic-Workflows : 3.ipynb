{
 "cells": [
  {
   "cell_type": "markdown",
   "metadata": {},
   "source": [
    "Creating a Simple Graph with Langgraph"
   ]
  },
  {
   "cell_type": "code",
   "execution_count": 150,
   "metadata": {},
   "outputs": [],
   "source": [
    "# Defining the State\n",
    "from typing import TypedDict\n",
    "\n",
    "class State(TypedDict):\n",
    "    graph_state:str\n"
   ]
  },
  {
   "cell_type": "code",
   "execution_count": 102,
   "metadata": {},
   "outputs": [],
   "source": [
    "# Defining the nodes\n",
    "\n",
    "def node_1(state:State):\n",
    "    print('---Node-1---')\n",
    "    updated_state = {'graph_state':state['graph_state'] + ' I am'}\n",
    "    print(updated_state)\n",
    "    return updated_state\n",
    "\n",
    "def node_2(state:State):\n",
    "    print('---Node-2---')\n",
    "    return {'graph_state':state['graph_state'] + ' very happy'}\n",
    "\n",
    "def node_3(state:State):\n",
    "    print('---Node-3---')\n",
    "    return {'graph_state':state['graph_state'] + ' very sad'}\n",
    "\n",
    "\n"
   ]
  },
  {
   "cell_type": "code",
   "execution_count": 103,
   "metadata": {},
   "outputs": [],
   "source": [
    "# Defining the conditional edge function\n",
    "import random\n",
    "from typing import Literal\n",
    "\n",
    "def decide_mood(state:State) -> Literal[\"node_2\",\"node_3\"]:\n",
    "\n",
    "    user_input = state['graph_state']\n",
    "\n",
    "    # Creating a 50% probability of choosing a path\n",
    "    if random.random() < 0.5:\n",
    "        return \"node_2\"\n",
    "    else:\n",
    "        return \"node_3\"\n"
   ]
  },
  {
   "cell_type": "code",
   "execution_count": 151,
   "metadata": {},
   "outputs": [
    {
     "data": {
      "image/jpeg": "[encoded data removed]",
      "text/plain": [
       "<IPython.core.display.Image object>"
      ]
     },
     "metadata": {},
     "output_type": "display_data"
    }
   ],
   "source": [
    "# Building the graph\n",
    "from langgraph.graph import StateGraph,START,END\n",
    "from IPython.display import Image,display\n",
    "\n",
    "\n",
    "# Initiate the graph builder object\n",
    "builder = StateGraph(State)\n",
    "\n",
    "# Building the graph\n",
    "# Add nodes\n",
    "# builder.add_node(node_name,node_func)\n",
    "\n",
    "builder.add_node(\"node_1\",node_1)\n",
    "builder.add_node(\"node_2\",node_2)\n",
    "builder.add_node(\"node_3\",node_3)\n",
    "\n",
    "# Add edges\n",
    "# builder.add_edge(start_entity,end_entity)\n",
    "# builder.add_conditional_edges(start_entity,conditional func)\n",
    "\n",
    "builder.add_edge(START,'node_1')\n",
    "builder.add_conditional_edges('node_1',decide_mood)\n",
    "builder.add_edge('node_2',END)\n",
    "builder.add_edge('node_3',END)\n",
    "\n",
    "# Compile the graph\n",
    "graph = builder.compile()\n",
    "\n",
    "# Visualizing the graph\n",
    "display((Image(graph.get_graph().draw_mermaid_png())))\n"
   ]
  },
  {
   "cell_type": "code",
   "execution_count": 153,
   "metadata": {},
   "outputs": [
    {
     "name": "stdout",
     "output_type": "stream",
     "text": [
      "---Node-1---\n",
      "{'graph_state': 'Fiddler here! I am'}\n",
      "---Node-3---\n"
     ]
    },
    {
     "data": {
      "text/plain": [
       "{'graph_state': 'Fiddler here! I am very sad'}"
      ]
     },
     "execution_count": 153,
     "metadata": {},
     "output_type": "execute_result"
    }
   ],
   "source": [
    "# Executing the graph\n",
    "graph.invoke({'graph_state':\"Fiddler here!\"})"
   ]
  },
  {
   "cell_type": "code",
   "execution_count": 159,
   "metadata": {},
   "outputs": [],
   "source": [
    "# Reducers\n",
    "\n",
    "# Define a messages state\n",
    "from typing import Annotated\n",
    "from typing_extensions import TypedDict\n",
    "from langgraph.graph.message import add_messages\n",
    "\n",
    "class State(TypedDict):\n",
    "    messages: Annotated[list,add_messages]\n",
    "\n",
    "\n"
   ]
  },
  {
   "cell_type": "code",
   "execution_count": 160,
   "metadata": {},
   "outputs": [],
   "source": [
    "# Creating a graph with a tool enabled LLM\n",
    "# Creating the state\n",
    "from langgraph.graph import MessagesState\n",
    "\n",
    "# Define the state\n",
    "class State(MessagesState):\n",
    "    pass\n",
    "\n",
    "# Creating a simple multiplication tool\n",
    "from langchain.tools import StructuredTool\n",
    "\n",
    "# Defining the tool function\n",
    "def multiply(a:int,b:int):\n",
    "    \"\"\"\n",
    "    Multiply two numbers a and b\n",
    "\n",
    "    \"\"\"\n",
    "    return a*b\n",
    "\n",
    "# Assign it as a tool\n",
    "multiplier = StructuredTool.from_function(func = multiply)\n",
    "\n",
    "# Creating an llm runnable\n",
    "\n",
    "from langchain_openai import ChatOpenAI\n",
    "llm = ChatOpenAI(model = 'gpt-3.5-turbo')\n",
    "\n",
    "# Binding it with tools\n",
    "\n",
    "# Creating the tools list\n",
    "tools = [multiplier]\n",
    "\n",
    "# Binding it to the LLM\n",
    "llm_with_tools = llm.bind_tools(tools=tools)\n"
   ]
  },
  {
   "cell_type": "code",
   "execution_count": 161,
   "metadata": {},
   "outputs": [
    {
     "data": {
      "image/jpeg": "[encoded data removed]",
      "text/plain": [
       "<IPython.core.display.Image object>"
      ]
     },
     "metadata": {},
     "output_type": "display_data"
    }
   ],
   "source": [
    "# Define the node function for llm\n",
    "def tool_calling_llm(state:MessagesState):\n",
    "    return {'messages':[llm_with_tools.invoke(state['messages'])]}\n",
    "\n",
    "builder = StateGraph(State)\n",
    "builder.add_node('tool_calling_llm',tool_calling_llm)\n",
    "builder.add_edge(START,'tool_calling_llm')\n",
    "builder.add_edge('tool_calling_llm',END)\n",
    "graph = builder.compile()\n",
    "\n",
    "\n",
    "# Visualize\n",
    "display(Image(graph.get_graph().draw_mermaid_png()))"
   ]
  },
  {
   "cell_type": "code",
   "execution_count": 164,
   "metadata": {},
   "outputs": [],
   "source": [
    "# Execute \n",
    "initial_state = {'messages':'Hi, how are you?'}\n",
    "response = graph.invoke(initial_state)"
   ]
  },
  {
   "cell_type": "code",
   "execution_count": 165,
   "metadata": {},
   "outputs": [
    {
     "data": {
      "text/plain": [
       "{'messages': [HumanMessage(content='Hi, how are you?', additional_kwargs={}, response_metadata={}, id='d525df44-80a7-4afa-9238-3577dcd932ca'),\n",
       "  AIMessage(content=\"Hello! I'm here and ready to assist you. How can I help you today?\", additional_kwargs={'refusal': None}, response_metadata={'token_usage': {'completion_tokens': 19, 'prompt_tokens': 54, 'total_tokens': 73, 'prompt_tokens_details': {'cached_tokens': 0}, 'completion_tokens_details': {'reasoning_tokens': 0}}, 'model_name': 'gpt-3.5-turbo-0125', 'system_fingerprint': None, 'finish_reason': 'stop', 'logprobs': None}, id='run-85fe8734-302e-43d1-8f84-70b98a64528d-0', usage_metadata={'input_tokens': 54, 'output_tokens': 19, 'total_tokens': 73, 'input_token_details': {'cache_read': 0}, 'output_token_details': {'reasoning': 0}})]}"
      ]
     },
     "execution_count": 165,
     "metadata": {},
     "output_type": "execute_result"
    }
   ],
   "source": [
    "response"
   ]
  },
  {
   "cell_type": "markdown",
   "metadata": {},
   "source": [
    "Router\n"
   ]
  },
  {
   "cell_type": "code",
   "execution_count": 172,
   "metadata": {},
   "outputs": [
    {
     "data": {
      "image/jpeg": "[encoded data removed]",
      "text/plain": [
       "<IPython.core.display.Image object>"
      ]
     },
     "metadata": {},
     "output_type": "display_data"
    }
   ],
   "source": [
    "# Creating the state\n",
    "from langgraph.graph import MessagesState\n",
    "from langgraph.prebuilt import ToolNode\n",
    "from langgraph.prebuilt import tools_condition\n",
    "\n",
    "# Define the state\n",
    "class State(MessagesState):\n",
    "    pass\n",
    "\n",
    "\n",
    "# Define the node function for llm\n",
    "def tool_calling_llm(state:MessagesState):\n",
    "    return {'messages':[llm_with_tools.invoke(state['messages'])]}\n",
    "\n",
    "# Instantiating the builder object\n",
    "builder = StateGraph(State)\n",
    "builder.add_node('tool_calling_llm',tool_calling_llm)\n",
    "\n",
    "# The tool node here will take in input the tool call\n",
    "# and provide the output as per the multiplier tool \n",
    "\n",
    "builder.add_node('tools',ToolNode(tools))\n",
    "\n",
    "builder.add_edge(START,'tool_calling_llm')\n",
    "builder.add_conditional_edges('tool_calling_llm',\n",
    "                              tools_condition)\n",
    "builder.add_edge('tools',END)\n",
    "\n",
    "\n",
    "# Compiling graph\n",
    "graph_router = builder.compile()\n",
    "\n",
    "\n",
    "# Visualize\n",
    "display(Image(graph.get_graph().draw_mermaid_png()))\n"
   ]
  },
  {
   "cell_type": "code",
   "execution_count": 178,
   "metadata": {},
   "outputs": [
    {
     "name": "stdout",
     "output_type": "stream",
     "text": [
      "================================\u001b[1m Human Message \u001b[0m=================================\n",
      "\n",
      "Multiply 2 and 5\n",
      "==================================\u001b[1m Ai Message \u001b[0m==================================\n",
      "Tool Calls:\n",
      "  multiply (call_XIHTAeiPVsKql2ALX1ZpUpZ6)\n",
      " Call ID: call_XIHTAeiPVsKql2ALX1ZpUpZ6\n",
      "  Args:\n",
      "    a: 2\n",
      "    b: 5\n",
      "=================================\u001b[1m Tool Message \u001b[0m=================================\n",
      "Name: multiply\n",
      "\n",
      "10\n"
     ]
    }
   ],
   "source": [
    "from langchain_core.messages import HumanMessage\n",
    "\n",
    "initial_state = {'messages': HumanMessage(content=\"Multiply 2 and 5\")}\n",
    "response = graph_router.invoke(initial_state)\n",
    "for r in response['messages']:\n",
    "    r.pretty_print()\n",
    "\n"
   ]
  },
  {
   "cell_type": "markdown",
   "metadata": {},
   "source": [
    "ReAct Agent\n"
   ]
  },
  {
   "cell_type": "code",
   "execution_count": 182,
   "metadata": {},
   "outputs": [],
   "source": [
    "# Defining the tools\n",
    "from langchain.tools import StructuredTool\n",
    "\n",
    "def multiply(a:int, b:int) -> int:\n",
    "    \"\"\"\n",
    "    Multiply a and b\n",
    "\n",
    "    \"\"\"\n",
    "    return a*b\n",
    "\n",
    "def add(a:int, b:int) -> int:\n",
    "    \"\"\"\n",
    "    Adds a and b\n",
    "\n",
    "    \"\"\"\n",
    "    return a+b\n",
    "\n",
    "def divide(a:int, b:int) -> int:\n",
    "    \"\"\"\n",
    "    Divide a and b\n",
    "\n",
    "    \"\"\"\n",
    "    return a/b\n",
    "\n",
    "multiplier = StructuredTool.from_function(func = multiply)\n",
    "adder = StructuredTool.from_function(func = add)\n",
    "divider = StructuredTool.from_function(func = divide)\n",
    "\n",
    "tools = [multiplier,adder,divider]\n",
    "\n",
    "llm = ChatOpenAI(model = 'gpt-3.5-turbo')\n",
    "\n",
    "llm_with_tools = llm.bind_tools(tools)"
   ]
  },
  {
   "cell_type": "code",
   "execution_count": 183,
   "metadata": {},
   "outputs": [
    {
     "data": {
      "image/jpeg": "[encoded data removed]",
      "text/plain": [
       "<IPython.core.display.Image object>"
      ]
     },
     "metadata": {},
     "output_type": "display_data"
    }
   ],
   "source": [
    "from langgraph.graph import MessagesState\n",
    "from langchain_core.messages import HumanMessage, SystemMessage\n",
    "\n",
    "# System Message\n",
    "sys_msg = SystemMessage(content = \"You are a helpful assistant tasked with performing arithmetic on a set of inputs\")\n",
    "\n",
    "\n",
    "# Node function for LLM\n",
    "def assistant(state:MessagesState):\n",
    "    response = llm_with_tools.invoke([sys_msg] + state['messages'])\n",
    "    return {'messages': [response]}\n",
    "\n",
    "from langgraph.graph import START, StateGraph\n",
    "from langgraph.prebuilt import tools_condition\n",
    "from langgraph.prebuilt import ToolNode\n",
    "\n",
    "# Builder object\n",
    "builder = StateGraph(MessagesState)\n",
    "\n",
    "\n",
    "# Adding nodes\n",
    "builder.add_node('assistant', assistant)\n",
    "builder.add_node('tools', ToolNode(tools))\n",
    "\n",
    "# Adding edges\n",
    "builder.add_edge(START,'assistant')\n",
    "builder.add_conditional_edges(\n",
    "    \"assistant\",\n",
    "    tools_condition\n",
    ")\n",
    "\n",
    "# Feedback edge\n",
    "builder.add_edge('tools','assistant')\n",
    "\n",
    "# Compile\n",
    "react_graph = builder.compile()\n",
    "\n",
    "# Visualize\n",
    "display(Image(react_graph.get_graph().draw_mermaid_png()))\n",
    "\n",
    "\n",
    "\n",
    "\n"
   ]
  },
  {
   "cell_type": "code",
   "execution_count": 190,
   "metadata": {},
   "outputs": [
    {
     "name": "stdout",
     "output_type": "stream",
     "text": [
      "================================\u001b[1m Human Message \u001b[0m=================================\n",
      "\n",
      "Multiply 2 and 3 and then add 10 to it and then divide it by 2\n",
      "==================================\u001b[1m Ai Message \u001b[0m==================================\n",
      "Tool Calls:\n",
      "  multiply (call_ErlRNqvuZv88ZPoqMNjjrTt2)\n",
      " Call ID: call_ErlRNqvuZv88ZPoqMNjjrTt2\n",
      "  Args:\n",
      "    a: 2\n",
      "    b: 3\n",
      "  add (call_iV7CEQE32d2Jeac5d2iMXNRB)\n",
      " Call ID: call_iV7CEQE32d2Jeac5d2iMXNRB\n",
      "  Args:\n",
      "    a: 6\n",
      "    b: 10\n",
      "  divide (call_hiAHTbXBb2RanL0CO49ldhG4)\n",
      " Call ID: call_hiAHTbXBb2RanL0CO49ldhG4\n",
      "  Args:\n",
      "    a: 16\n",
      "    b: 2\n",
      "=================================\u001b[1m Tool Message \u001b[0m=================================\n",
      "Name: multiply\n",
      "\n",
      "6\n",
      "=================================\u001b[1m Tool Message \u001b[0m=================================\n",
      "Name: add\n",
      "\n",
      "16\n",
      "=================================\u001b[1m Tool Message \u001b[0m=================================\n",
      "Name: divide\n",
      "\n",
      "8.0\n",
      "==================================\u001b[1m Ai Message \u001b[0m==================================\n",
      "\n",
      "The result of multiplying 2 and 3 is 6. \n",
      "\n",
      "Adding 10 to 6 gives 16. \n",
      "\n",
      "Dividing 16 by 2 results in 8. \n",
      "\n",
      "Therefore, the final result after multiplying 2 and 3, adding 10, and then dividing by 2 is 8.\n"
     ]
    }
   ],
   "source": [
    "# Execute\n",
    "initial_state = {'messages':HumanMessage(content = 'Multiply 2 and 3 and then add 10 to it and then divide it by 2')}\n",
    "response = react_graph.invoke(initial_state)\n",
    "\n",
    "for r in response['messages']:\n",
    "    r.pretty_print()\n"
   ]
  },
  {
   "cell_type": "code",
   "execution_count": 293,
   "metadata": {},
   "outputs": [
    {
     "data": {
      "text/plain": [
       "True"
      ]
     },
     "execution_count": 293,
     "metadata": {},
     "output_type": "execute_result"
    }
   ],
   "source": [
    "import os\n",
    "from dotenv import load_dotenv\n",
    "\n",
    "load_dotenv()"
   ]
  },
  {
   "cell_type": "markdown",
   "metadata": {},
   "source": [
    "Setting up LangSmith:\n",
    "\n",
    "LangSmith is an all-in-one developer platform for every step of the LLM-powered application lifecycle, whether you’re building with LangChain or not.\n",
    "Debug, collaborate, test, and monitor your LLM applications"
   ]
  },
  {
   "cell_type": "code",
   "execution_count": 313,
   "metadata": {},
   "outputs": [],
   "source": [
    "# Setting up LangSmith\n",
    "os.environ['LANGCHAIN_TRACING_V2'] = 'true'\n",
    "os.environ['LANGCHAIN_API_KEY'] = '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'\n",
    "os.environ['LANGCHAIN_ENDPOINT'] = 'https://api.smith.langchain.com'"
   ]
  },
  {
   "cell_type": "code",
   "execution_count": 314,
   "metadata": {},
   "outputs": [
    {
     "data": {
      "text/plain": [
       "AIMessage(content='Hello! How can I assist you today?', additional_kwargs={'refusal': None}, response_metadata={'token_usage': {'completion_tokens': 9, 'prompt_tokens': 11, 'total_tokens': 20, 'prompt_tokens_details': {'cached_tokens': 0}, 'completion_tokens_details': {'reasoning_tokens': 0}}, 'model_name': 'gpt-3.5-turbo-0125', 'system_fingerprint': None, 'finish_reason': 'stop', 'logprobs': None}, id='run-698a0484-026f-4d29-a527-98eaf1490db6-0', usage_metadata={'input_tokens': 11, 'output_tokens': 9, 'total_tokens': 20, 'input_token_details': {'cache_read': 0}, 'output_token_details': {'reasoning': 0}})"
      ]
     },
     "execution_count": 314,
     "metadata": {},
     "output_type": "execute_result"
    }
   ],
   "source": [
    "from langchain_openai import ChatOpenAI\n",
    "\n",
    "llm = ChatOpenAI()\n",
    "llm.invoke(\"Hello, world!\")"
   ]
  },
  {
   "cell_type": "markdown",
   "metadata": {},
   "source": [
    "ReAct Agent with Memory"
   ]
  },
  {
   "cell_type": "code",
   "execution_count": 295,
   "metadata": {},
   "outputs": [],
   "source": [
    "# Defining the tools\n",
    "from langchain.tools import StructuredTool\n",
    "from langchain_openai import ChatOpenAI\n",
    "\n",
    "def multiply(a:int,b:int) -> int:\n",
    "    \"\"\"\n",
    "    Multiply two integers a and b\n",
    "\n",
    "    \"\"\"\n",
    "    return a*b\n",
    "\n",
    "def add(a:int,b:int) -> int:\n",
    "    \"\"\"\n",
    "    Add two integers a and b \n",
    "\n",
    "    \"\"\"\n",
    "    return a+b\n",
    "\n",
    "def divide(a:int,b:int) -> int:\n",
    "    \"\"\"\n",
    "    Divide two integers a and b \n",
    "\n",
    "    \"\"\"\n",
    "    return a/b\n",
    "\n",
    "# Assigning the tools\n",
    "multiplier = StructuredTool.from_function(func=multiply)\n",
    "adder = StructuredTool.from_function(func=add)\n",
    "divider = StructuredTool.from_function(func=divide)\n",
    "\n",
    "\n",
    "#Creating the tools list\n",
    "tools = [multiplier,adder,divider]\n",
    "\n",
    "# Binding tools to LLM\n",
    "llm = ChatOpenAI(model='gpt-3.5-turbo')\n",
    "llm_with_tools = llm.bind_tools(tools)"
   ]
  },
  {
   "cell_type": "code",
   "execution_count": 296,
   "metadata": {},
   "outputs": [],
   "source": [
    "from langgraph.graph import MessagesState\n",
    "from langchain_core.messages import HumanMessage,AIMessage,SystemMessage\n",
    "\n",
    "# Defining the state\n",
    "class State(MessagesState):\n",
    "    pass\n",
    "\n",
    "# System Message\n",
    "sys_msg = SystemMessage(content = \"\"\"You're a helpful assistant \n",
    "                        tasked with performing arithmetic on a set \n",
    "                        of inputs\"\"\" )\n",
    "\n",
    "# Defining the assistant node function\n",
    "def assistant(state:MessagesState):\n",
    "    return {'messages': [llm_with_tools.invoke([sys_msg]+state['messages'])]}\n",
    "\n"
   ]
  },
  {
   "cell_type": "code",
   "execution_count": 297,
   "metadata": {},
   "outputs": [
    {
     "data": {
      "image/jpeg": "[encoded data removed]",
      "text/plain": [
       "<IPython.core.display.Image object>"
      ]
     },
     "metadata": {},
     "output_type": "display_data"
    }
   ],
   "source": [
    "from langgraph.prebuilt import tools_condition,ToolNode\n",
    "\n",
    "# Initiating the builder object\n",
    "builder = StateGraph(MessagesState)\n",
    "\n",
    "# Adding nodes and egdes\n",
    "builder.add_node('assistant',assistant)\n",
    "builder.add_node('tools',ToolNode(tools))\n",
    "builder.add_edge(START,'assistant')\n",
    "builder.add_conditional_edges('assistant',\n",
    "                              tools_condition)\n",
    "builder.add_edge('tools','assistant')\n",
    "\n",
    "# Compiling it\n",
    "react_graph = builder.compile()\n",
    "\n",
    "# Visualize\n",
    "display(Image(react_graph.get_graph().draw_mermaid_png()))\n"
   ]
  },
  {
   "cell_type": "code",
   "execution_count": 298,
   "metadata": {},
   "outputs": [
    {
     "name": "stdout",
     "output_type": "stream",
     "text": [
      "================================\u001b[1m Human Message \u001b[0m=================================\n",
      "\n",
      "Multiply 3 and 6\n",
      "==================================\u001b[1m Ai Message \u001b[0m==================================\n",
      "Tool Calls:\n",
      "  multiply (call_tEs3ujS42a6iRLpW0BaLM7J9)\n",
      " Call ID: call_tEs3ujS42a6iRLpW0BaLM7J9\n",
      "  Args:\n",
      "    a: 3\n",
      "    b: 6\n",
      "=================================\u001b[1m Tool Message \u001b[0m=================================\n",
      "Name: multiply\n",
      "\n",
      "18\n",
      "==================================\u001b[1m Ai Message \u001b[0m==================================\n",
      "\n",
      "The result of multiplying 3 and 6 is 18.\n"
     ]
    }
   ],
   "source": [
    "# Execute it \n",
    "initial_state = {'messages' : [HumanMessage(content = \"Multiply 3 and 6\")]}\n",
    "output = react_graph.invoke(initial_state)\n",
    "for o in output['messages']:\n",
    "    o.pretty_print()"
   ]
  },
  {
   "cell_type": "code",
   "execution_count": 315,
   "metadata": {},
   "outputs": [
    {
     "name": "stdout",
     "output_type": "stream",
     "text": [
      "================================\u001b[1m Human Message \u001b[0m=================================\n",
      "\n",
      "Now, add 2 to it\n",
      "==================================\u001b[1m Ai Message \u001b[0m==================================\n",
      "Tool Calls:\n",
      "  add (call_sfIT5MZ9T6zG4602NMz6kK7q)\n",
      " Call ID: call_sfIT5MZ9T6zG4602NMz6kK7q\n",
      "  Args:\n",
      "    a: 5\n",
      "    b: 2\n",
      "=================================\u001b[1m Tool Message \u001b[0m=================================\n",
      "Name: add\n",
      "\n",
      "7\n",
      "==================================\u001b[1m Ai Message \u001b[0m==================================\n",
      "\n",
      "The result of adding 2 to 5 is 7.\n"
     ]
    }
   ],
   "source": [
    "# Now querying the graph again based on earlier execution\n",
    "initial_state = {'messages' : [HumanMessage(content = \"Now, add 2 to it\")]}\n",
    "output = react_graph.invoke(initial_state)\n",
    "for o in output['messages']:\n",
    "    o.pretty_print()"
   ]
  },
  {
   "cell_type": "markdown",
   "metadata": {},
   "source": [
    "##### Adding memory persistence to our graph\n",
    "\n",
    "LangGraph uses a checkpointer to save the state after each node or step. We are going to use the MemorySaver checkpointer which is an in-memory key value store for storing graph states.\n"
   ]
  },
  {
   "cell_type": "code",
   "execution_count": 320,
   "metadata": {},
   "outputs": [],
   "source": [
    "# Adding checkpointer to the graph\n",
    "from langgraph.checkpoint.memory import MemorySaver\n",
    "memory = MemorySaver()\n",
    "\n",
    "# Adding the checkpointer feature to our graph\n",
    "react_graph_memory = builder.compile(checkpointer = memory)"
   ]
  },
  {
   "cell_type": "code",
   "execution_count": 323,
   "metadata": {},
   "outputs": [
    {
     "name": "stdout",
     "output_type": "stream",
     "text": [
      "================================\u001b[1m Human Message \u001b[0m=================================\n",
      "\n",
      "Multiply 3 and 6\n",
      "==================================\u001b[1m Ai Message \u001b[0m==================================\n",
      "Tool Calls:\n",
      "  multiply (call_3QMDaex3ZAYQu4UkofLGiZ27)\n",
      " Call ID: call_3QMDaex3ZAYQu4UkofLGiZ27\n",
      "  Args:\n",
      "    a: 3\n",
      "    b: 6\n",
      "=================================\u001b[1m Tool Message \u001b[0m=================================\n",
      "Name: multiply\n",
      "\n",
      "18\n",
      "==================================\u001b[1m Ai Message \u001b[0m==================================\n",
      "\n",
      "The result of multiplying 3 and 6 is 18.\n"
     ]
    }
   ],
   "source": [
    "# Configuring a thread\n",
    "config = {'configurable': {'thread_id': '3'}}\n",
    "\n",
    "# Input for execution\n",
    "input = HumanMessage(content = 'Multiply 3 and 6')\n",
    "\n",
    "# Execution with memory enabled\n",
    "output = react_graph_memory.invoke({'messages':input},config)\n",
    "for o in output['messages']:\n",
    "    o.pretty_print()"
   ]
  },
  {
   "cell_type": "code",
   "execution_count": 324,
   "metadata": {},
   "outputs": [
    {
     "name": "stdout",
     "output_type": "stream",
     "text": [
      "================================\u001b[1m Human Message \u001b[0m=================================\n",
      "\n",
      "Multiply 3 and 6\n",
      "==================================\u001b[1m Ai Message \u001b[0m==================================\n",
      "Tool Calls:\n",
      "  multiply (call_3QMDaex3ZAYQu4UkofLGiZ27)\n",
      " Call ID: call_3QMDaex3ZAYQu4UkofLGiZ27\n",
      "  Args:\n",
      "    a: 3\n",
      "    b: 6\n",
      "=================================\u001b[1m Tool Message \u001b[0m=================================\n",
      "Name: multiply\n",
      "\n",
      "18\n",
      "==================================\u001b[1m Ai Message \u001b[0m==================================\n",
      "\n",
      "The result of multiplying 3 and 6 is 18.\n",
      "================================\u001b[1m Human Message \u001b[0m=================================\n",
      "\n",
      "Now, add 2 to it\n",
      "==================================\u001b[1m Ai Message \u001b[0m==================================\n",
      "Tool Calls:\n",
      "  add (call_hHhmUL9A5l7svvuINL0LGc6P)\n",
      " Call ID: call_hHhmUL9A5l7svvuINL0LGc6P\n",
      "  Args:\n",
      "    a: 18\n",
      "    b: 2\n",
      "=================================\u001b[1m Tool Message \u001b[0m=================================\n",
      "Name: add\n",
      "\n",
      "20\n",
      "==================================\u001b[1m Ai Message \u001b[0m==================================\n",
      "\n",
      "The result of adding 2 to 18 is 20.\n"
     ]
    }
   ],
   "source": [
    "# Now, querying again on top of the earlier execution\n",
    "# Input for execution\n",
    "input = HumanMessage(content = 'Now, add 2 to it')\n",
    "\n",
    "# Execution\n",
    "output = react_graph_memory.invoke({'messages':input},config)\n",
    "for o in output['messages']:\n",
    "    o.pretty_print()"
   ]
  },
  {
   "cell_type": "code",
   "execution_count": 325,
   "metadata": {},
   "outputs": [
    {
     "name": "stdout",
     "output_type": "stream",
     "text": [
      "================================\u001b[1m Human Message \u001b[0m=================================\n",
      "\n",
      "Multiply 3 and 6\n",
      "==================================\u001b[1m Ai Message \u001b[0m==================================\n",
      "Tool Calls:\n",
      "  multiply (call_3QMDaex3ZAYQu4UkofLGiZ27)\n",
      " Call ID: call_3QMDaex3ZAYQu4UkofLGiZ27\n",
      "  Args:\n",
      "    a: 3\n",
      "    b: 6\n",
      "=================================\u001b[1m Tool Message \u001b[0m=================================\n",
      "Name: multiply\n",
      "\n",
      "18\n",
      "==================================\u001b[1m Ai Message \u001b[0m==================================\n",
      "\n",
      "The result of multiplying 3 and 6 is 18.\n",
      "================================\u001b[1m Human Message \u001b[0m=================================\n",
      "\n",
      "Now, add 2 to it\n",
      "==================================\u001b[1m Ai Message \u001b[0m==================================\n",
      "Tool Calls:\n",
      "  add (call_hHhmUL9A5l7svvuINL0LGc6P)\n",
      " Call ID: call_hHhmUL9A5l7svvuINL0LGc6P\n",
      "  Args:\n",
      "    a: 18\n",
      "    b: 2\n",
      "=================================\u001b[1m Tool Message \u001b[0m=================================\n",
      "Name: add\n",
      "\n",
      "20\n",
      "==================================\u001b[1m Ai Message \u001b[0m==================================\n",
      "\n",
      "The result of adding 2 to 18 is 20.\n",
      "================================\u001b[1m Human Message \u001b[0m=================================\n",
      "\n",
      "Now, multiply that by 0\n",
      "==================================\u001b[1m Ai Message \u001b[0m==================================\n",
      "Tool Calls:\n",
      "  multiply (call_gXm6JhkaJNlJcGivCtxsE63F)\n",
      " Call ID: call_gXm6JhkaJNlJcGivCtxsE63F\n",
      "  Args:\n",
      "    a: 20\n",
      "    b: 0\n",
      "=================================\u001b[1m Tool Message \u001b[0m=================================\n",
      "Name: multiply\n",
      "\n",
      "0\n",
      "==================================\u001b[1m Ai Message \u001b[0m==================================\n",
      "\n",
      "The result of multiplying 20 by 0 is 0.\n"
     ]
    }
   ],
   "source": [
    "input = HumanMessage(content = 'Now, multiply that by 0')\n",
    "\n",
    "# Execution\n",
    "output = react_graph_memory.invoke({'messages':input},config)\n",
    "for o in output['messages']:\n",
    "    o.pretty_print()"
   ]
  },
  {
   "cell_type": "code",
   "execution_count": null,
   "metadata": {},
   "outputs": [],
   "source": []
  }
 ],
 "metadata": {
  "kernelspec": {
   "display_name": "Python 3",
   "language": "python",
   "name": "python3"
  },
  "language_info": {
   "codemirror_mode": {
    "name": "ipython",
    "version": 3
   },
   "file_extension": ".py",
   "mimetype": "text/x-python",
   "name": "python",
   "nbconvert_exporter": "python",
   "pygments_lexer": "ipython3",
   "version": "3.12.2"
  }
 },
 "nbformat": 4,
 "nbformat_minor": 2
}
