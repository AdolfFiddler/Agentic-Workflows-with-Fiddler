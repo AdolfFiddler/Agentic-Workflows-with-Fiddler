{
 "cells": [
  {
   "cell_type": "markdown",
   "metadata": {},
   "source": [
    "Setting up Langsmith \n"
   ]
  },
  {
   "cell_type": "code",
   "execution_count": null,
   "metadata": {},
   "outputs": [],
   "source": [
    "import os\n",
    "os.environ[\"LANGCHAIN_TRACING_V2\"] = \"true\"\n",
    "os.environ[\"LANGCHAIN_PROJECT\"] = \"langgraph\""
   ]
  },
  {
   "cell_type": "code",
   "execution_count": 14,
   "metadata": {},
   "outputs": [
    {
     "name": "stdout",
     "output_type": "stream",
     "text": [
      "==================================\u001b[1m Ai Message \u001b[0m==================================\n",
      "\n",
      "Football is a game played with the feet!\n",
      "================================\u001b[1m Human Message \u001b[0m=================================\n",
      "\n",
      "Yes I got it, what about handball?\n"
     ]
    }
   ],
   "source": [
    "# Defining a conversation\n",
    "from langchain_core.messages import HumanMessage, AIMessage, AnyMessage, SystemMessage\n",
    "messages = [AIMessage(content = 'Football is a game played with the feet!')]\n",
    "messages.append(HumanMessage(\"Yes I got it, what about handball?\"))\n",
    "\n",
    "for m in messages:\n",
    "    m.pretty_print()"
   ]
  },
  {
   "cell_type": "code",
   "execution_count": 12,
   "metadata": {},
   "outputs": [
    {
     "data": {
      "image/jpeg": "[encoded data removed]",
      "text/plain": [
       "<IPython.core.display.Image object>"
      ]
     },
     "metadata": {},
     "output_type": "display_data"
    }
   ],
   "source": [
    "# Creating the llm object\n",
    "from langchain_openai import ChatOpenAI\n",
    "llm = ChatOpenAI(model = 'gpt-3.5-turbo')\n",
    "\n",
    "# Creating a basic chatbot graph\n",
    "from IPython.display import Image, display\n",
    "from langgraph.graph import MessagesState\n",
    "from langgraph.graph import StateGraph, START, END\n",
    "\n",
    "# Defining the node function for llm\n",
    "def assistant(state: MessagesState):\n",
    "    return{'messages': llm.invoke(state['messages'])}\n",
    "\n",
    "# Build Graph\n",
    "builder = StateGraph(MessagesState)\n",
    "builder.add_node('assistant',assistant)\n",
    "builder.add_edge(START,'assistant')\n",
    "builder.add_edge('assistant',END)\n",
    "\n",
    "# Compiling the graph\n",
    "graph = builder.compile()\n",
    "\n",
    "# Visualizing the graph\n",
    "display(Image(graph.get_graph().draw_mermaid_png()))"
   ]
  },
  {
   "cell_type": "code",
   "execution_count": 15,
   "metadata": {},
   "outputs": [
    {
     "name": "stdout",
     "output_type": "stream",
     "text": [
      "==================================\u001b[1m Ai Message \u001b[0m==================================\n",
      "\n",
      "Football is a game played with the feet!\n",
      "================================\u001b[1m Human Message \u001b[0m=================================\n",
      "\n",
      "Yes I got it, what about handball?\n",
      "==================================\u001b[1m Ai Message \u001b[0m==================================\n",
      "\n",
      "Handball is a team sport in which players use their hands to pass and shoot a ball into the opponent's goal. It is similar to soccer but with the main difference being that players use their hands instead of their feet to control the ball. Handball is played on a court with six players on each team, and the objective is to score more goals than the opposing team.\n"
     ]
    }
   ],
   "source": [
    "# Feeding the conversation to this graph\n",
    "output = graph.invoke({'messages':messages})\n",
    "for o in output['messages']:\n",
    "    o.pretty_print()\n"
   ]
  },
  {
   "cell_type": "markdown",
   "metadata": {},
   "source": [
    "Strategy:1\n",
    "Filtering messages\n"
   ]
  },
  {
   "cell_type": "code",
   "execution_count": 18,
   "metadata": {},
   "outputs": [
    {
     "data": {
      "image/jpeg": "[encoded data removed]",
      "text/plain": [
       "<IPython.core.display.Image object>"
      ]
     },
     "metadata": {},
     "output_type": "display_data"
    }
   ],
   "source": [
    "from langchain_core.messages import RemoveMessage\n",
    "\n",
    "# Defining the node function for filter operation\n",
    "def filter_messages(state:MessagesState):\n",
    "    \"\"\"\n",
    "    Deleting all messages except for the 2 recent ones\n",
    "\n",
    "    \"\"\"\n",
    "    remove_messages = [RemoveMessage(id = m.id) for m in state['messages'][:-2]]\n",
    "    return {'messages':remove_messages}\n",
    "\n",
    "# Now bulding graph to include this node\n",
    "builder = StateGraph(MessagesState)\n",
    "builder.add_node(\"filter_messages\", filter_messages)\n",
    "builder.add_node(\"assistant\", assistant)\n",
    "builder.add_edge(START, \"filter_messages\")\n",
    "builder.add_edge(\"filter_messages\", \"assistant\")\n",
    "builder.add_edge(\"assistant\", END)\n",
    "graph = builder.compile()\n",
    "\n",
    "# Visualize\n",
    "display(Image(graph.get_graph().draw_mermaid_png()))\n"
   ]
  },
  {
   "cell_type": "code",
   "execution_count": 23,
   "metadata": {},
   "outputs": [
    {
     "name": "stdout",
     "output_type": "stream",
     "text": [
      "==================================\u001b[1m Ai Message \u001b[0m==================================\n",
      "\n",
      "Hi, Fiddler tell me what can I do for you?\n",
      "================================\u001b[1m Human Message \u001b[0m=================================\n",
      "\n",
      "Teach me football\n",
      "==================================\u001b[1m Ai Message \u001b[0m==================================\n",
      "\n",
      "Sure! Football, also known as soccer in some countries, is a popular sport played by two teams of eleven players each, using a spherical ball. The objective of the game is to score goals by getting the ball into the opposing team's goal. Here are some basic rules and concepts of football:\n",
      "\n",
      "1. **Field**: Football is played on a rectangular field with goalposts at each end. The field is divided into two halves, with a center circle and penalty areas at each end.\n",
      "\n",
      "2. **Duration**: A standard football match consists of two halves, each lasting 45 minutes, with a 15-minute halftime break.\n",
      "\n",
      "3. **Players**: Each team has 11 players, including a goalkeeper. Players are assigned specific positions on the field, such as defenders, midfielders, and forwards.\n",
      "\n",
      "4. **Objective**: The primary objective of the game is to score goals by kicking the ball into the opposing team's goal. The team with the most goals at the end of the match wins.\n",
      "\n",
      "5. **Rules**: Players can use any part of their body except their arms and hands to play the ball. The game is controlled by a referee who enforces the rules and can award fouls, penalties, and cards for misconduct.\n",
      "\n",
      "6. **Offside**: One important rule in football is the offside rule, which prevents attacking players from receiving the ball in an offside position. A player is in an offside position if they are closer to the opposing team's goal line than the ball and the second-to-last defender when the ball is played to them.\n",
      "\n",
      "7. **Penalties**: Penalties can be awarded for fouls committed inside the penalty area, resulting in a penalty kick for the attacking team.\n",
      "\n",
      "8. **Yellow and Red Cards**: A referee can show yellow cards for cautionable offenses and red cards for serious misconduct, resulting in a player being sent off the field.\n",
      "\n",
      "9. **Extra Time and Penalties**: In knockout competitions, if the match is tied at the end of regular time, extra time and possibly a penalty shootout may be used to determine the winner.\n",
      "\n",
      "These are just some basic concepts of football. Watching matches, playing the game, and following a team can help you learn more about the sport. Let me know if you have any specific questions or need more information!\n"
     ]
    }
   ],
   "source": [
    "# Testing this graph\n",
    "\n",
    "# Sample conversation history\n",
    "messages = [AIMessage(\"Hello, what can I do for you?\", id=\"1\")]\n",
    "messages.append(HumanMessage(\"Hi I'm Fiddler\", id=\"2\"))\n",
    "messages.append(AIMessage(\"Hi, Fiddler tell me what can I do for you?\", id=\"3\"))\n",
    "messages.append(HumanMessage(\"Teach me football\", id=\"4\"))\n",
    "\n",
    "# Invoking our graph\n",
    "output = graph.invoke({'messages':messages})\n",
    "for o in output['messages']:\n",
    "    o.pretty_print()\n",
    "\n",
    "# https://smith.langchain.com/public/c5285bf3-8aa4-4530-86d2-1a713f58178b/r"
   ]
  },
  {
   "cell_type": "markdown",
   "metadata": {},
   "source": [
    "Strategy: 2 Trimming\n",
    "\n",
    "Trim messages to be below a token count.\n",
    "\n",
    "trim_messages can be used to reduce the size of a chat history to a specified token count or specified message count.\n"
   ]
  },
  {
   "cell_type": "code",
   "execution_count": 35,
   "metadata": {},
   "outputs": [
    {
     "data": {
      "image/jpeg": "[encoded data removed]",
      "text/plain": [
       "<IPython.core.display.Image object>"
      ]
     },
     "metadata": {},
     "output_type": "display_data"
    }
   ],
   "source": [
    "from langchain_core.messages import trim_messages\n",
    "\n",
    "# Node function for assistant (llm) responding on trimmed messages\n",
    "def assistant_with_trim(state: MessagesState):\n",
    "    messages = trim_messages(\n",
    "        state['messages'],\n",
    "        max_tokens = 50,\n",
    "        strategy = 'last',# To retain the recent messages and trim the old ones\n",
    "        token_counter = ChatOpenAI(model = 'gpt-3.5-turbo'),\n",
    "        allow_partial = False, # No partial messages\n",
    "     )\n",
    "    return {'messages': llm.invoke(messages)}\n",
    "\n",
    "# Build graph\n",
    "builder = StateGraph(MessagesState)\n",
    "builder.add_node(\"assistant_with_trim\", assistant_with_trim)\n",
    "builder.add_edge(START, \"assistant_with_trim\")\n",
    "builder.add_edge(\"assistant_with_trim\", END)\n",
    "graph = builder.compile()\n",
    "\n",
    "# View\n",
    "display(Image(graph.get_graph().draw_mermaid_png()))"
   ]
  },
  {
   "cell_type": "code",
   "execution_count": 38,
   "metadata": {},
   "outputs": [
    {
     "name": "stdout",
     "output_type": "stream",
     "text": [
      "[HumanMessage(content='I see how that could be a game changer. But what about the ethical implications? How should we address them as football continues to evolve?', additional_kwargs={}, response_metadata={}, id='32480816-b062-4693-9e61-e73c772332e5')]\n",
      "==================================\u001b[1m Ai Message \u001b[0m==================================\n",
      "\n",
      "Artificial intelligence is reshaping various industries, enabling machines to learn from data and perform tasks that typically require human intelligence. From language processing to decision-making, AI has a profound impact on our daily lives.\n",
      "================================\u001b[1m Human Message \u001b[0m=================================\n",
      "\n",
      "That's fascinating! What are some of the most promising applications of AI right now?\n",
      "==================================\u001b[1m Ai Message \u001b[0m==================================\n",
      "\n",
      "One of the most promising applications is in healthcare. AI systems are being used to analyze medical images for early detection of diseases, as well as to personalize treatment plans based on patient data.\n",
      "================================\u001b[1m Human Message \u001b[0m=================================\n",
      "\n",
      "I see how that could be a game changer. But what about the ethical implications? How should we address them as football continues to evolve?\n",
      "==================================\u001b[1m Ai Message \u001b[0m==================================\n",
      "\n",
      "Ethical implications in football are indeed an important consideration as the sport continues to evolve. Some key areas where ethics come into play include player safety, fair play, doping, financial fairness, and the influence of money in the sport.\n",
      "\n",
      "To address these ethical implications, it is important for football stakeholders, including players, coaches, administrators, and fans, to prioritize values such as integrity, fairness, and respect for all individuals involved in the game. This can be achieved through the implementation of strict rules and regulations, transparent decision-making processes, and a commitment to upholding ethical standards.\n",
      "\n",
      "Furthermore, education and awareness-raising initiatives can help enhance ethical behavior within the football community. This includes educating players about the importance of fair play, promoting anti-doping measures, and advocating for inclusivity and diversity in the sport.\n",
      "\n",
      "Ultimately, addressing ethical implications in football requires a collective effort from all stakeholders to uphold the values that make the sport enjoyable and meaningful for everyone involved. By prioritizing ethics and integrity, football can continue to evolve in a positive and sustainable manner.\n"
     ]
    }
   ],
   "source": [
    "# Testing the trim strategy graph\n",
    "# Sample convo history\n",
    "messages = [\n",
    "    AIMessage(content='Artificial intelligence is reshaping various industries, enabling machines to learn from data and perform tasks that typically require human intelligence. From language processing to decision-making, AI has a profound impact on our daily lives.'),\n",
    "    HumanMessage(content=\"That's fascinating! What are some of the most promising applications of AI right now?\"),\n",
    "    AIMessage(content='One of the most promising applications is in healthcare. AI systems are being used to analyze medical images for early detection of diseases, as well as to personalize treatment plans based on patient data.'),\n",
    "    HumanMessage(content=\"I see how that could be a game changer. But what about the ethical implications? How should we address them as football continues to evolve?\")\n",
    "]\n",
    "\n",
    "output = graph.invoke({'messages': messages})\n",
    "for o in output['messages']:\n",
    "    o.pretty_print()\n",
    "\n",
    "# lsmith: https://smith.langchain.com/public/43e6c4c8-3669-4112-85c4-3bb818535844/r"
   ]
  },
  {
   "cell_type": "markdown",
   "metadata": {},
   "source": [
    "Strategy: 3 Summarization\n",
    "\n",
    "Summarizing helps us retain an abstracted/compressed version of the conversation history."
   ]
  },
  {
   "cell_type": "code",
   "execution_count": 39,
   "metadata": {},
   "outputs": [],
   "source": [
    "# Defining a state schema to store messages and summary\n",
    "\n",
    "class State(MessagesState):\n",
    "    summary: str\n",
    "\n",
    "# Defining the node function to create summaries\n",
    "def summarizer(state: State):\n",
    "\n",
    "    # Getting any existing summary\n",
    "    summary = state.get('summary','')\n",
    "\n",
    "    # If summary exists:\n",
    "    if summary:\n",
    "\n",
    "        # Prompt to generate summary\n",
    "        summary_message  = (f\"\"\"Summary of the conversation history : {summary}\\n\n",
    "                            Extend the summary considering the new messages above:\"\"\")\n",
    "        \n",
    "    # if summary doesn't exist\n",
    "    else:\n",
    "\n",
    "        summary_message = \"Generate a structured summary of the conversation above:\"\n",
    "\n",
    "    # Adding the summary message to messages\n",
    "    messages = state['messages'] + [HumanMessage(content = summary_message)]\n",
    "    response = llm.invoke(messages)\n",
    "\n",
    "    # Them, filtering the messages state to retain only the two recent ones\n",
    "    delete_messages = [RemoveMessage(id=m.id) for m in state[\"messages\"][:-2]]\n",
    "    return {\"summary\": response.content, \"messages\": delete_messages}\n",
    "\n"
   ]
  },
  {
   "cell_type": "code",
   "execution_count": 40,
   "metadata": {},
   "outputs": [],
   "source": [
    "# Define the assistant node\n",
    "\n",
    "def assistant(state:State):\n",
    "\n",
    "    summary = state.get('summary','')\n",
    "\n",
    "    # If summary exists:\n",
    "    if summary:\n",
    "\n",
    "        # Add summary to the system message\n",
    "        sys_msg = f'Summary of the conversation history : {summary}'\n",
    "\n",
    "        # Append the summary to newer messages for context\n",
    "        messages = [SystemMessage(content = sys_msg)] + state['messages']\n",
    "\n",
    "    # If summary doesn't exist\n",
    "    else:\n",
    "\n",
    "        messages = state['messages']\n",
    "\n",
    "    response = llm.invoke(messages)\n",
    "\n",
    "    return {'messages': response}"
   ]
  },
  {
   "cell_type": "code",
   "execution_count": 41,
   "metadata": {},
   "outputs": [],
   "source": [
    "# Adding a conditional edge to decide if we should summarize or not\n",
    "from langgraph.graph import END\n",
    "# Determine whether to end or summarize the conversation\n",
    "def summarize_decision(state: State):\n",
    "    \n",
    "    \"\"\"Return the next node to execute.\"\"\"\n",
    "    \n",
    "    messages = state[\"messages\"]\n",
    "    \n",
    "    # If there are more than six messages, then we summarize the conversation\n",
    "    if len(messages) > 6:\n",
    "        return \"summarizer\"\n",
    "    \n",
    "    # Otherwise we can just end\n",
    "    return END"
   ]
  },
  {
   "cell_type": "code",
   "execution_count": 52,
   "metadata": {},
   "outputs": [
    {
     "data": {
      "image/jpeg": "[encoded data removed]",
      "text/plain": [
       "<IPython.core.display.Image object>"
      ]
     },
     "metadata": {},
     "output_type": "display_data"
    }
   ],
   "source": [
    "from langgraph.checkpoint.memory import MemorySaver\n",
    "memory = MemorySaver()\n",
    "\n",
    "# Building the graph\n",
    "\n",
    "builder = StateGraph(State)\n",
    "builder.add_node('assistant',assistant)\n",
    "builder.add_node('summarizer',summarizer)\n",
    "builder.add_edge(START,'assistant')\n",
    "builder.add_conditional_edges('assistant',summarize_decision)\n",
    "builder.add_edge('summarizer',END)\n",
    "\n",
    "\n",
    "graph_summarizer = builder.compile(checkpointer = memory)\n",
    "\n",
    "display(Image(graph_summarizer.get_graph().draw_mermaid_png()))"
   ]
  },
  {
   "cell_type": "code",
   "execution_count": 64,
   "metadata": {},
   "outputs": [
    {
     "name": "stdout",
     "output_type": "stream",
     "text": [
      "================================\u001b[1m Human Message \u001b[0m=================================\n",
      "\n",
      "Hi! AdolfFiddler here!\n",
      "==================================\u001b[1m Ai Message \u001b[0m==================================\n",
      "\n",
      "Hello AdolfFiddler! How can I assist you today?\n"
     ]
    }
   ],
   "source": [
    "config = {\"configurable\": {\"thread_id\": \"4\"}}\n",
    "\n",
    "# Start conversation\n",
    "input_message = HumanMessage(content=\"Hi! AdolfFiddler here!\")\n",
    "output = graph_summarizer.invoke({\"messages\": [input_message]}, config) \n",
    "for m in output['messages']:\n",
    "    m.pretty_print()\n",
    "\n",
    "\n",
    "\n"
   ]
  },
  {
   "cell_type": "code",
   "execution_count": 65,
   "metadata": {},
   "outputs": [
    {
     "name": "stdout",
     "output_type": "stream",
     "text": [
      "================================\u001b[1m Human Message \u001b[0m=================================\n",
      "\n",
      "Hi! AdolfFiddler here!\n",
      "==================================\u001b[1m Ai Message \u001b[0m==================================\n",
      "\n",
      "Hello AdolfFiddler! How can I assist you today?\n",
      "================================\u001b[1m Human Message \u001b[0m=================================\n",
      "\n",
      "What's my name?!\n",
      "==================================\u001b[1m Ai Message \u001b[0m==================================\n",
      "\n",
      "Your name is AdolfFiddler! How can I help you today?\n"
     ]
    }
   ],
   "source": [
    "input_message = HumanMessage(content=\"What's my name?!\")\n",
    "output = graph_summarizer.invoke({\"messages\": [input_message]}, config) \n",
    "for m in output['messages']:\n",
    "    m.pretty_print()\n"
   ]
  },
  {
   "cell_type": "code",
   "execution_count": 66,
   "metadata": {},
   "outputs": [
    {
     "name": "stdout",
     "output_type": "stream",
     "text": [
      "================================\u001b[1m Human Message \u001b[0m=================================\n",
      "\n",
      "Hi! AdolfFiddler here!\n",
      "==================================\u001b[1m Ai Message \u001b[0m==================================\n",
      "\n",
      "Hello AdolfFiddler! How can I assist you today?\n",
      "================================\u001b[1m Human Message \u001b[0m=================================\n",
      "\n",
      "What's my name?!\n",
      "==================================\u001b[1m Ai Message \u001b[0m==================================\n",
      "\n",
      "Your name is AdolfFiddler! How can I help you today?\n",
      "================================\u001b[1m Human Message \u001b[0m=================================\n",
      "\n",
      "I love Messi, he is the most skillful player right?\n",
      "==================================\u001b[1m Ai Message \u001b[0m==================================\n",
      "\n",
      "Lionel Messi is definitely considered one of the most skillful and talented football players in the world. He has achieved numerous records and accolades throughout his career. Many people admire his dribbling ability, vision, and goal-scoring prowess. It's great to hear that you are a fan of Messi!\n"
     ]
    }
   ],
   "source": [
    "input_message = HumanMessage(content=\"I love Messi, he is the most skillful player right?\")\n",
    "output = graph_summarizer.invoke({\"messages\": [input_message]}, config) \n",
    "for m in output['messages']:\n",
    "    m.pretty_print()"
   ]
  },
  {
   "cell_type": "code",
   "execution_count": 67,
   "metadata": {},
   "outputs": [
    {
     "name": "stdout",
     "output_type": "stream",
     "text": [
      "================================\u001b[1m Human Message \u001b[0m=================================\n",
      "\n",
      "Tell me one key fact about him\n",
      "==================================\u001b[1m Ai Message \u001b[0m==================================\n",
      "\n",
      "One key fact about Lionel Messi is that he has won the prestigious FIFA Ballon d'Or award multiple times, which is given to the best male football player in the world. Messi has won this award multiple times, showcasing his exceptional talent and skill on the field.\n"
     ]
    }
   ],
   "source": [
    "input_message = HumanMessage(content=\"Tell me one key fact about him\")\n",
    "output = graph_summarizer.invoke({\"messages\": [input_message]}, config) \n",
    "for m in output['messages']:\n",
    "    m.pretty_print()"
   ]
  },
  {
   "cell_type": "code",
   "execution_count": 69,
   "metadata": {},
   "outputs": [
    {
     "data": {
      "text/plain": [
       "\"Sure! Here is a structured summary of our conversation:\\n\\n1. User (AdolfFiddler) mentioned their admiration for Lionel Messi, considering him the most skillful player.\\n2. AdolfFiddler asked for confirmation of their name, which was confirmed as AdolfFiddler.\\n3. AdolfFiddler expressed their love for Messi and his skillful playing style.\\n4. AdolfFiddler asked for a key fact about Messi, learning that he has won the FIFA Ballon d'Or award multiple times for being the best male football player in the world.\""
      ]
     },
     "execution_count": 69,
     "metadata": {},
     "output_type": "execute_result"
    }
   ],
   "source": [
    "output['summary']\n",
    "# Langsmith link: https://smith.langchain.com/public/821e44be-58cd-434f-9517-dd1d303e1561/r"
   ]
  },
  {
   "cell_type": "code",
   "execution_count": null,
   "metadata": {},
   "outputs": [],
   "source": []
  }
 ],
 "metadata": {
  "kernelspec": {
   "display_name": "Python 3",
   "language": "python",
   "name": "python3"
  },
  "language_info": {
   "codemirror_mode": {
    "name": "ipython",
    "version": 3
   },
   "file_extension": ".py",
   "mimetype": "text/x-python",
   "name": "python",
   "nbconvert_exporter": "python",
   "pygments_lexer": "ipython3",
   "version": "3.12.2"
  }
 },
 "nbformat": 4,
 "nbformat_minor": 2
}
